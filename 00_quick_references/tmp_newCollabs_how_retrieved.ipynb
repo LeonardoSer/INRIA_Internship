{
 "cells": [
  {
   "cell_type": "code",
   "execution_count": 2,
   "metadata": {},
   "outputs": [],
   "source": [
    "import pandas as pd\n",
    "import matplotlib.pyplot as plt\n",
    "import numpy as np\n",
    "\n",
    "import warnings\n",
    "warnings.filterwarnings(\"ignore\")\n",
    "\n",
    "# Import own libraries \n",
    "import os, sys\n",
    "script_path = os.path.realpath(os.path.dirname(\"10_on_trajectories\"))\n",
    "os.chdir(script_path)\n",
    "sys.path.append(\"..\")\n",
    "\n",
    "from myLibraries.queries import * \n",
    "from myLibraries.rawData_queries import *\n",
    "from myLibraries.events import *\n",
    "from myLibraries.theoretical_functions import *"
   ]
  },
  {
   "cell_type": "code",
   "execution_count": 3,
   "metadata": {},
   "outputs": [
    {
     "data": {
      "text/html": [
       "<div>\n",
       "<style scoped>\n",
       "    .dataframe tbody tr th:only-of-type {\n",
       "        vertical-align: middle;\n",
       "    }\n",
       "\n",
       "    .dataframe tbody tr th {\n",
       "        vertical-align: top;\n",
       "    }\n",
       "\n",
       "    .dataframe thead th {\n",
       "        text-align: right;\n",
       "    }\n",
       "</style>\n",
       "<table border=\"1\" class=\"dataframe\">\n",
       "  <thead>\n",
       "    <tr style=\"text-align: right;\">\n",
       "      <th></th>\n",
       "      <th>ID</th>\n",
       "      <th>1990</th>\n",
       "      <th>1991</th>\n",
       "      <th>1992</th>\n",
       "      <th>1993</th>\n",
       "      <th>1994</th>\n",
       "      <th>1995</th>\n",
       "      <th>1996</th>\n",
       "      <th>1997</th>\n",
       "      <th>1998</th>\n",
       "      <th>...</th>\n",
       "      <th>2014</th>\n",
       "      <th>2015</th>\n",
       "      <th>2016</th>\n",
       "      <th>2017</th>\n",
       "      <th>2018</th>\n",
       "      <th>start_year</th>\n",
       "      <th>end_year</th>\n",
       "      <th>max_hole_size</th>\n",
       "      <th>activity</th>\n",
       "      <th>tot_pubs</th>\n",
       "    </tr>\n",
       "  </thead>\n",
       "  <tbody>\n",
       "    <tr>\n",
       "      <th>124509</th>\n",
       "      <td>35180239300</td>\n",
       "      <td>0</td>\n",
       "      <td>0</td>\n",
       "      <td>0</td>\n",
       "      <td>0</td>\n",
       "      <td>0</td>\n",
       "      <td>0</td>\n",
       "      <td>0</td>\n",
       "      <td>0</td>\n",
       "      <td>0</td>\n",
       "      <td>...</td>\n",
       "      <td>2</td>\n",
       "      <td>2</td>\n",
       "      <td>2</td>\n",
       "      <td>2</td>\n",
       "      <td>2</td>\n",
       "      <td>2014</td>\n",
       "      <td>2014</td>\n",
       "      <td>0</td>\n",
       "      <td>0</td>\n",
       "      <td>1</td>\n",
       "    </tr>\n",
       "    <tr>\n",
       "      <th>172715</th>\n",
       "      <td>55956782200</td>\n",
       "      <td>0</td>\n",
       "      <td>0</td>\n",
       "      <td>0</td>\n",
       "      <td>0</td>\n",
       "      <td>0</td>\n",
       "      <td>0</td>\n",
       "      <td>0</td>\n",
       "      <td>0</td>\n",
       "      <td>0</td>\n",
       "      <td>...</td>\n",
       "      <td>7</td>\n",
       "      <td>7</td>\n",
       "      <td>7</td>\n",
       "      <td>7</td>\n",
       "      <td>7</td>\n",
       "      <td>2009</td>\n",
       "      <td>2009</td>\n",
       "      <td>0</td>\n",
       "      <td>0</td>\n",
       "      <td>1</td>\n",
       "    </tr>\n",
       "    <tr>\n",
       "      <th>98640</th>\n",
       "      <td>22735859600</td>\n",
       "      <td>0</td>\n",
       "      <td>0</td>\n",
       "      <td>0</td>\n",
       "      <td>0</td>\n",
       "      <td>0</td>\n",
       "      <td>0</td>\n",
       "      <td>0</td>\n",
       "      <td>0</td>\n",
       "      <td>0</td>\n",
       "      <td>...</td>\n",
       "      <td>4</td>\n",
       "      <td>4</td>\n",
       "      <td>4</td>\n",
       "      <td>4</td>\n",
       "      <td>4</td>\n",
       "      <td>2014</td>\n",
       "      <td>2014</td>\n",
       "      <td>0</td>\n",
       "      <td>0</td>\n",
       "      <td>1</td>\n",
       "    </tr>\n",
       "    <tr>\n",
       "      <th>92100</th>\n",
       "      <td>16041613300</td>\n",
       "      <td>0</td>\n",
       "      <td>0</td>\n",
       "      <td>0</td>\n",
       "      <td>0</td>\n",
       "      <td>0</td>\n",
       "      <td>0</td>\n",
       "      <td>0</td>\n",
       "      <td>0</td>\n",
       "      <td>0</td>\n",
       "      <td>...</td>\n",
       "      <td>3</td>\n",
       "      <td>3</td>\n",
       "      <td>3</td>\n",
       "      <td>3</td>\n",
       "      <td>3</td>\n",
       "      <td>2008</td>\n",
       "      <td>2008</td>\n",
       "      <td>0</td>\n",
       "      <td>0</td>\n",
       "      <td>1</td>\n",
       "    </tr>\n",
       "    <tr>\n",
       "      <th>190038</th>\n",
       "      <td>56601224000</td>\n",
       "      <td>0</td>\n",
       "      <td>0</td>\n",
       "      <td>0</td>\n",
       "      <td>0</td>\n",
       "      <td>0</td>\n",
       "      <td>0</td>\n",
       "      <td>0</td>\n",
       "      <td>0</td>\n",
       "      <td>0</td>\n",
       "      <td>...</td>\n",
       "      <td>1</td>\n",
       "      <td>1</td>\n",
       "      <td>1</td>\n",
       "      <td>1</td>\n",
       "      <td>1</td>\n",
       "      <td>2013</td>\n",
       "      <td>2013</td>\n",
       "      <td>0</td>\n",
       "      <td>0</td>\n",
       "      <td>1</td>\n",
       "    </tr>\n",
       "    <tr>\n",
       "      <th>...</th>\n",
       "      <td>...</td>\n",
       "      <td>...</td>\n",
       "      <td>...</td>\n",
       "      <td>...</td>\n",
       "      <td>...</td>\n",
       "      <td>...</td>\n",
       "      <td>...</td>\n",
       "      <td>...</td>\n",
       "      <td>...</td>\n",
       "      <td>...</td>\n",
       "      <td>...</td>\n",
       "      <td>...</td>\n",
       "      <td>...</td>\n",
       "      <td>...</td>\n",
       "      <td>...</td>\n",
       "      <td>...</td>\n",
       "      <td>...</td>\n",
       "      <td>...</td>\n",
       "      <td>...</td>\n",
       "      <td>...</td>\n",
       "      <td>...</td>\n",
       "    </tr>\n",
       "    <tr>\n",
       "      <th>103788</th>\n",
       "      <td>23469299900</td>\n",
       "      <td>0</td>\n",
       "      <td>0</td>\n",
       "      <td>0</td>\n",
       "      <td>0</td>\n",
       "      <td>0</td>\n",
       "      <td>0</td>\n",
       "      <td>0</td>\n",
       "      <td>0</td>\n",
       "      <td>0</td>\n",
       "      <td>...</td>\n",
       "      <td>0</td>\n",
       "      <td>0</td>\n",
       "      <td>0</td>\n",
       "      <td>2</td>\n",
       "      <td>2</td>\n",
       "      <td>2017</td>\n",
       "      <td>2017</td>\n",
       "      <td>0</td>\n",
       "      <td>0</td>\n",
       "      <td>1</td>\n",
       "    </tr>\n",
       "    <tr>\n",
       "      <th>159992</th>\n",
       "      <td>55543948600</td>\n",
       "      <td>0</td>\n",
       "      <td>0</td>\n",
       "      <td>0</td>\n",
       "      <td>0</td>\n",
       "      <td>0</td>\n",
       "      <td>0</td>\n",
       "      <td>0</td>\n",
       "      <td>0</td>\n",
       "      <td>0</td>\n",
       "      <td>...</td>\n",
       "      <td>6</td>\n",
       "      <td>6</td>\n",
       "      <td>6</td>\n",
       "      <td>6</td>\n",
       "      <td>6</td>\n",
       "      <td>2013</td>\n",
       "      <td>2014</td>\n",
       "      <td>0</td>\n",
       "      <td>1</td>\n",
       "      <td>2</td>\n",
       "    </tr>\n",
       "    <tr>\n",
       "      <th>52221</th>\n",
       "      <td>7005915207</td>\n",
       "      <td>0</td>\n",
       "      <td>0</td>\n",
       "      <td>0</td>\n",
       "      <td>0</td>\n",
       "      <td>0</td>\n",
       "      <td>0</td>\n",
       "      <td>0</td>\n",
       "      <td>0</td>\n",
       "      <td>0</td>\n",
       "      <td>...</td>\n",
       "      <td>11</td>\n",
       "      <td>11</td>\n",
       "      <td>11</td>\n",
       "      <td>11</td>\n",
       "      <td>15</td>\n",
       "      <td>2011</td>\n",
       "      <td>2018</td>\n",
       "      <td>3</td>\n",
       "      <td>7</td>\n",
       "      <td>4</td>\n",
       "    </tr>\n",
       "    <tr>\n",
       "      <th>177758</th>\n",
       "      <td>56114875000</td>\n",
       "      <td>0</td>\n",
       "      <td>0</td>\n",
       "      <td>0</td>\n",
       "      <td>0</td>\n",
       "      <td>0</td>\n",
       "      <td>0</td>\n",
       "      <td>0</td>\n",
       "      <td>0</td>\n",
       "      <td>0</td>\n",
       "      <td>...</td>\n",
       "      <td>5</td>\n",
       "      <td>5</td>\n",
       "      <td>5</td>\n",
       "      <td>5</td>\n",
       "      <td>5</td>\n",
       "      <td>2013</td>\n",
       "      <td>2013</td>\n",
       "      <td>0</td>\n",
       "      <td>0</td>\n",
       "      <td>1</td>\n",
       "    </tr>\n",
       "    <tr>\n",
       "      <th>113193</th>\n",
       "      <td>24823988300</td>\n",
       "      <td>0</td>\n",
       "      <td>0</td>\n",
       "      <td>0</td>\n",
       "      <td>0</td>\n",
       "      <td>0</td>\n",
       "      <td>0</td>\n",
       "      <td>0</td>\n",
       "      <td>0</td>\n",
       "      <td>0</td>\n",
       "      <td>...</td>\n",
       "      <td>11</td>\n",
       "      <td>11</td>\n",
       "      <td>14</td>\n",
       "      <td>14</td>\n",
       "      <td>14</td>\n",
       "      <td>2008</td>\n",
       "      <td>2016</td>\n",
       "      <td>2</td>\n",
       "      <td>8</td>\n",
       "      <td>8</td>\n",
       "    </tr>\n",
       "  </tbody>\n",
       "</table>\n",
       "<p>232838 rows × 35 columns</p>\n",
       "</div>"
      ],
      "text/plain": [
       "                 ID  1990  1991  1992  1993  1994  1995  1996  1997  1998  \\\n",
       "124509  35180239300     0     0     0     0     0     0     0     0     0   \n",
       "172715  55956782200     0     0     0     0     0     0     0     0     0   \n",
       "98640   22735859600     0     0     0     0     0     0     0     0     0   \n",
       "92100   16041613300     0     0     0     0     0     0     0     0     0   \n",
       "190038  56601224000     0     0     0     0     0     0     0     0     0   \n",
       "...             ...   ...   ...   ...   ...   ...   ...   ...   ...   ...   \n",
       "103788  23469299900     0     0     0     0     0     0     0     0     0   \n",
       "159992  55543948600     0     0     0     0     0     0     0     0     0   \n",
       "52221    7005915207     0     0     0     0     0     0     0     0     0   \n",
       "177758  56114875000     0     0     0     0     0     0     0     0     0   \n",
       "113193  24823988300     0     0     0     0     0     0     0     0     0   \n",
       "\n",
       "        ...  2014  2015  2016  2017  2018  start_year  end_year  \\\n",
       "124509  ...     2     2     2     2     2        2014      2014   \n",
       "172715  ...     7     7     7     7     7        2009      2009   \n",
       "98640   ...     4     4     4     4     4        2014      2014   \n",
       "92100   ...     3     3     3     3     3        2008      2008   \n",
       "190038  ...     1     1     1     1     1        2013      2013   \n",
       "...     ...   ...   ...   ...   ...   ...         ...       ...   \n",
       "103788  ...     0     0     0     2     2        2017      2017   \n",
       "159992  ...     6     6     6     6     6        2013      2014   \n",
       "52221   ...    11    11    11    11    15        2011      2018   \n",
       "177758  ...     5     5     5     5     5        2013      2013   \n",
       "113193  ...    11    11    14    14    14        2008      2016   \n",
       "\n",
       "        max_hole_size  activity  tot_pubs  \n",
       "124509              0         0         1  \n",
       "172715              0         0         1  \n",
       "98640               0         0         1  \n",
       "92100               0         0         1  \n",
       "190038              0         0         1  \n",
       "...               ...       ...       ...  \n",
       "103788              0         0         1  \n",
       "159992              0         1         2  \n",
       "52221               3         7         4  \n",
       "177758              0         0         1  \n",
       "113193              2         8         8  \n",
       "\n",
       "[232838 rows x 35 columns]"
      ]
     },
     "execution_count": 3,
     "metadata": {},
     "output_type": "execute_result"
    }
   ],
   "source": [
    "file = '../myDATA/00-collaboration_df.csv'\n",
    "df = pd.read_csv(file)\n",
    "df.iloc[np.random.permutation(len(df))]"
   ]
  },
  {
   "cell_type": "code",
   "execution_count": 4,
   "metadata": {},
   "outputs": [],
   "source": [
    "YEARS = get_str_years_event()\n",
    "HOLE_SIZE = 7\n",
    "ACTIVITY = 5\n",
    "MIN_PUBS = 3"
   ]
  },
  {
   "cell_type": "code",
   "execution_count": 6,
   "metadata": {},
   "outputs": [],
   "source": [
    "# reading dataset\n",
    "file = '../myDATA/00-collaboration_df.csv'\n",
    "collaborations_df = pd.read_csv(file)\n",
    "\n",
    "# iterate over the years columns \n",
    "num_colls_by_y = []\n",
    "for i in range(len(YEARS)-1):\n",
    "    \n",
    "    y = YEARS[1:][i]\n",
    "    \n",
    "    num_colls_by_y.append(collaborations_df[y].sum())"
   ]
  },
  {
   "cell_type": "code",
   "execution_count": 7,
   "metadata": {},
   "outputs": [],
   "source": [
    "# return an array with the total number of collaboration for each year\n",
    "def get_collabs_event():\n",
    "    \n",
    "    # reading dataset\n",
    "    file = '../myDATA/00-collaboration_df.csv'\n",
    "    collaborations_df = pd.read_csv(file)\n",
    "    \n",
    "    # iterate over the years columns \n",
    "    num_colls_by_y = []\n",
    "    for i in range(len(YEARS)-1):\n",
    "        y = YEARS[1:][i]\n",
    "        \n",
    "        # the total number of collaborations in the given year is the sum over the cells in the corresponding column\n",
    "        num_colls_by_y.append(collaborations_df[y].sum())\n",
    "    \n",
    "    num_colls_by_y.insert(0,np.int64(1))\n",
    "    return num_colls_by_y\n",
    "\n",
    "\n",
    "\n",
    "# return an array with the total number of collaboration for each year\n",
    "def get_collabs_eventACTIVE(hs, act, mPubs):\n",
    "    \n",
    "    # filtering dataset for active\n",
    "    file = '../myDATA/00-collaboration_df.csv'\n",
    "    collaborations_df = pd.read_csv(file)\n",
    "    collaborations_df = collaborations_df[collaborations_df[\"max_hole_size\"] <= hs]\n",
    "    collaborations_df = collaborations_df[collaborations_df[\"activity\"] >= act]\n",
    "    collaborations_df = collaborations_df[collaborations_df[\"max_hole_size\"] >= mPubs]\n",
    "    \n",
    "    # iterate over the years columns \n",
    "    num_colls_by_y = []\n",
    "    for i in range(len(YEARS)-1):\n",
    "        y = YEARS[1:][i]\n",
    "        # the total number of collaborations in the given year is the sum over the cells in the corresponding column\n",
    "        num_colls_by_y.append(collaborations_df[y].sum())\n",
    "    \n",
    "    num_colls_by_y.insert(0,np.int64(1))\n",
    "    return num_colls_by_y"
   ]
  },
  {
   "cell_type": "code",
   "execution_count": 8,
   "metadata": {},
   "outputs": [
    {
     "name": "stdout",
     "output_type": "stream",
     "text": [
      "total collaborations by year:  [1, 5467, 9633, 15710, 23482, 32911, 45320, 63755, 85027, 116972, 142301, 179403, 217612, 290552, 343119, 425267, 498504, 613704, 721423, 869794, 998351, 1179309, 1333411, 1553610, 1731875, 1981635, 2187834, 2506822, 2717599, 3010553]\n",
      "\n",
      "total collaborations by year for active:  [1, 1201, 2193, 3476, 5116, 7324, 10273, 14551, 19733, 27842, 33790, 42669, 52553, 72593, 86561, 109307, 127633, 160746, 188469, 231677, 264615, 310870, 343586, 393091, 423311, 465112, 495465, 549437, 580502, 629495]\n"
     ]
    }
   ],
   "source": [
    "total_colls_by_year = get_collabs_event()[1:]\n",
    "\n",
    "HOLE_SIZE = 7\n",
    "ACTIVITY = 5\n",
    "MIN_PUBS = 3\n",
    "active_total_colls_by_year = get_collabs_eventACTIVE(HOLE_SIZE, ACTIVITY, MIN_PUBS)[1:]\n",
    "\n",
    "print(\"total collaborations by year: \", get_collabs_event())\n",
    "print()\n",
    "print(\"total collaborations by year for active: \", get_collabs_eventACTIVE(HOLE_SIZE, ACTIVITY, MIN_PUBS))"
   ]
  },
  {
   "cell_type": "markdown",
   "metadata": {},
   "source": [
    "# new collaborations by year\n",
    "computed just subtracting the total number of collaborations in the previous year to the total number of collaboration in the current year"
   ]
  },
  {
   "cell_type": "markdown",
   "metadata": {},
   "source": [
    "### for ALL"
   ]
  },
  {
   "cell_type": "code",
   "execution_count": 9,
   "metadata": {},
   "outputs": [
    {
     "data": {
      "text/plain": [
       "[<matplotlib.lines.Line2D at 0x7fabf2f03a00>]"
      ]
     },
     "execution_count": 9,
     "metadata": {},
     "output_type": "execute_result"
    },
    {
     "data": {
      "image/png": "[encoded data removed]",
      "text/plain": [
       "<Figure size 432x288 with 1 Axes>"
      ]
     },
     "metadata": {
      "needs_background": "light"
     },
     "output_type": "display_data"
    }
   ],
   "source": [
    "years = get_int_years_event()\n",
    "\n",
    "prev = 0\n",
    "asd = []\n",
    "for y in years:\n",
    "    \n",
    "    # change the value of prev to the total number of collaborations in the previous year\n",
    "    if(y!=1990):\n",
    "        prev = total_colls_by_year[years.index(int(y)-1)]\n",
    "        \n",
    "    # subtract the current total number of collaboration the the precedent one to get the number of new collaborations in the given year\n",
    "    num_new_collabs = total_colls_by_year[years.index(y)] - prev\n",
    "    asd.append(num_new_collabs)\n",
    "    # plot points\n",
    "    plt.scatter(y,  num_new_collabs, label=str(y) + \" -> \" + str(num_new_collabs))\n",
    "\n",
    "#plot the line that connect the points\n",
    "plt.plot(years, asd)\n"
   ]
  },
  {
   "cell_type": "markdown",
   "metadata": {},
   "source": [
    "#### for ACTIVE"
   ]
  },
  {
   "cell_type": "code",
   "execution_count": 10,
   "metadata": {},
   "outputs": [
    {
     "data": {
      "text/plain": [
       "[<matplotlib.lines.Line2D at 0x7fabf2dd1a90>]"
      ]
     },
     "execution_count": 10,
     "metadata": {},
     "output_type": "execute_result"
    },
    {
     "data": {
      "image/png": "[encoded data removed]",
      "text/plain": [
       "<Figure size 432x288 with 1 Axes>"
      ]
     },
     "metadata": {
      "needs_background": "light"
     },
     "output_type": "display_data"
    }
   ],
   "source": [
    "years = get_int_years_event()\n",
    "\n",
    "prev = 0\n",
    "asd = []\n",
    "for y in years:\n",
    "    \n",
    "    # change the value of prev to the total number of collaborations in the previous year\n",
    "    if(y!=1990):\n",
    "        prev = active_total_colls_by_year[years.index(int(y)-1)]\n",
    "        \n",
    "    # subtract the current total number of collaboration the the precedent one to get the number of new collaborations in the given year\n",
    "    num_new_collabs = active_total_colls_by_year[years.index(y)] - prev\n",
    "    asd.append(num_new_collabs)\n",
    "    \n",
    "    # plot points\n",
    "    plt.scatter(y,  num_new_collabs, label=str(y) + \" -> \" + str(num_new_collabs))\n",
    "\n",
    "#plot the line that connect the points\n",
    "plt.plot(years, asd)"
   ]
  },
  {
   "cell_type": "code",
   "execution_count": null,
   "metadata": {},
   "outputs": [],
   "source": []
  },
  {
   "cell_type": "code",
   "execution_count": null,
   "metadata": {},
   "outputs": [],
   "source": []
  },
  {
   "cell_type": "code",
   "execution_count": null,
   "metadata": {},
   "outputs": [],
   "source": []
  },
  {
   "cell_type": "markdown",
   "metadata": {},
   "source": [
    "# investigate zig zag"
   ]
  },
  {
   "cell_type": "code",
   "execution_count": 117,
   "metadata": {},
   "outputs": [],
   "source": [
    "# for each year is generated a list of all authors that had a new collaboration that year\n",
    "\n",
    "\n",
    "file = '../myDATA/00-collaboration_df.csv'\n",
    "collaborations_df = pd.read_csv(file)\n",
    "\n",
    "groups = [] \n",
    "starting_group = collaborations_df[collaborations_df[\"1990\"] != 0]\n",
    "\n",
    "groups.append(starting_group[\"ID\"].values)\n",
    "\n",
    "num_colls_by_y = []\n",
    "for i in range(1, len(YEARS)-1):\n",
    "    y = YEARS[1:][i]\n",
    "    prev_y = YEARS[1:][i-1]\n",
    "    curr_grp = collaborations_df[collaborations_df[y] != collaborations_df[prev_y]]\n",
    "    groups.append(curr_grp[\"ID\"].values)"
   ]
  },
  {
   "cell_type": "markdown",
   "metadata": {},
   "source": [
    "# how many authors in the 2011 group are in the 2013 grp? "
   ]
  },
  {
   "cell_type": "code",
   "execution_count": 118,
   "metadata": {},
   "outputs": [
    {
     "name": "stdout",
     "output_type": "stream",
     "text": [
      "8072 authors with new collab in both 2011 ans 2013\n"
     ]
    },
    {
     "data": {
      "text/plain": [
       "6602326045"
      ]
     },
     "execution_count": 118,
     "metadata": {},
     "output_type": "execute_result"
    }
   ],
   "source": [
    "grp_2011 = set(groups[YEARS[1:].index(\"2011\")])\n",
    "grp_2013 = set(groups[YEARS[1:].index(\"2013\")])\n",
    "\n",
    "print(len(grp_2011.intersection(grp_2013)), \"authors with new collab in both 2011 ans 2013\")\n",
    "\n",
    "\n",
    "list(grp_2011.intersection(grp_2013))[10]"
   ]
  },
  {
   "cell_type": "code",
   "execution_count": 119,
   "metadata": {},
   "outputs": [
    {
     "data": {
      "text/plain": [
       "True"
      ]
     },
     "execution_count": 119,
     "metadata": {},
     "output_type": "execute_result"
    }
   ],
   "source": [
    "6602326045 in groups[YEARS[1:].index(\"2004\")]"
   ]
  },
  {
   "cell_type": "code",
   "execution_count": 120,
   "metadata": {},
   "outputs": [
    {
     "name": "stdout",
     "output_type": "stream",
     "text": [
      "ID [6602326045]\n",
      "1990 [0]\n",
      "1991 [0]\n",
      "1992 [0]\n",
      "1993 [0]\n",
      "1994 [0]\n",
      "1995 [0]\n",
      "1996 [0]\n",
      "1997 [0]\n",
      "1998 [0]\n",
      "1999 [1]\n",
      "2000 [1]\n",
      "2001 [1]\n",
      "2002 [1]\n",
      "2003 [1]\n",
      "2004 [2]\n",
      "2005 [2]\n",
      "2006 [2]\n",
      "2007 [3]\n",
      "2008 [3]\n",
      "2009 [3]\n",
      "2010 [7]\n",
      "2011 [10]\n",
      "2012 [11]\n",
      "2013 [13]\n",
      "2014 [34]\n",
      "2015 [41]\n",
      "2016 [47]\n",
      "2017 [50]\n",
      "2018 [53]\n",
      "start_year [1999]\n",
      "end_year [2018]\n",
      "max_hole_size [3]\n",
      "activity [19]\n",
      "tot_pubs [42]\n"
     ]
    }
   ],
   "source": [
    "\n",
    "auth = collaborations_df[collaborations_df[\"ID\"] == 6602326045]\n",
    "for i in auth:\n",
    "    print(i, auth[i].values )"
   ]
  },
  {
   "cell_type": "markdown",
   "metadata": {},
   "source": [
    "# 2by2 comparison \n"
   ]
  },
  {
   "cell_type": "code",
   "execution_count": 121,
   "metadata": {},
   "outputs": [
    {
     "name": "stdout",
     "output_type": "stream",
     "text": [
      "224 / 1497 (14%) \tauthors with a new collaborations in  1990  has also a new colalboration in  1992\n",
      "217 / 1548 (14%) \tauthors with a new collaborations in  1991  has also a new colalboration in  1993\n",
      "370 / 1979 (18%) \tauthors with a new collaborations in  1992  has also a new colalboration in  1994\n",
      "454 / 2724 (16%) \tauthors with a new collaborations in  1993  has also a new colalboration in  1995\n",
      "644 / 3142 (20%) \tauthors with a new collaborations in  1994  has also a new colalboration in  1996\n",
      "810 / 4024 (20%) \tauthors with a new collaborations in  1995  has also a new colalboration in  1997\n",
      "1084 / 5052 (21%) \tauthors with a new collaborations in  1996  has also a new colalboration in  1998\n",
      "1108 / 6026 (18%) \tauthors with a new collaborations in  1997  has also a new colalboration in  1999\n",
      "1407 / 7166 (19%) \tauthors with a new collaborations in  1998  has also a new colalboration in  2000\n",
      "1368 / 6540 (20%) \tauthors with a new collaborations in  1999  has also a new colalboration in  2001\n",
      "1843 / 8066 (22%) \tauthors with a new collaborations in  2000  has also a new colalboration in  2002\n",
      "1969 / 8379 (23%) \tauthors with a new collaborations in  2001  has also a new colalboration in  2003\n",
      "2701 / 10917 (24%) \tauthors with a new collaborations in  2002  has also a new colalboration in  2004\n",
      "2732 / 11243 (24%) \tauthors with a new collaborations in  2003  has also a new colalboration in  2005\n",
      "3491 / 12765 (27%) \tauthors with a new collaborations in  2004  has also a new colalboration in  2006\n",
      "3917 / 13684 (28%) \tauthors with a new collaborations in  2005  has also a new colalboration in  2007\n",
      "5461 / 17857 (30%) \tauthors with a new collaborations in  2006  has also a new colalboration in  2008\n",
      "5681 / 19648 (28%) \tauthors with a new collaborations in  2007  has also a new colalboration in  2009\n",
      "7210 / 23295 (30%) \tauthors with a new collaborations in  2008  has also a new colalboration in  2010\n",
      "7004 / 24137 (29%) \tauthors with a new collaborations in  2009  has also a new colalboration in  2011\n",
      "8255 / 26261 (31%) \tauthors with a new collaborations in  2010  has also a new colalboration in  2012\n",
      "8072 / 26668 (30%) \tauthors with a new collaborations in  2011  has also a new colalboration in  2013\n",
      "9138 / 29628 (30%) \tauthors with a new collaborations in  2012  has also a new colalboration in  2014\n",
      "8445 / 29777 (28%) \tauthors with a new collaborations in  2013  has also a new colalboration in  2015\n",
      "9724 / 33403 (29%) \tauthors with a new collaborations in  2014  has also a new colalboration in  2016\n",
      "8965 / 32060 (27%) \tauthors with a new collaborations in  2015  has also a new colalboration in  2017\n",
      "9791 / 34635 (28%) \tauthors with a new collaborations in  2016  has also a new colalboration in  2018\n"
     ]
    },
    {
     "ename": "",
     "evalue": "",
     "output_type": "error",
     "traceback": [
      "\u001b[1;31mThe Kernel crashed while executing code in the the current cell or a previous cell. Please review the code in the cell(s) to identify a possible cause of the failure. Click <a href='https://aka.ms/vscodeJupyterKernelCrash'>here</a> for more info. View Jupyter <a href='command:jupyter.viewOutput'>log</a> for further details."
     ]
    }
   ],
   "source": [
    "for i in range(1990, 2017):\n",
    "    grp_1 = set(groups[YEARS[1:].index(str(i))])\n",
    "    grp_2 = set(groups[YEARS[1:].index(str(i+2))])\n",
    "\n",
    "    common = len(grp_1.intersection(grp_2))\n",
    "    \n",
    "    print(common, \"/\", len(grp_1),\n",
    "          \"(\"+str(int(common/len(grp_1)*100))+\"%)\", \n",
    "          \"\\tauthors with a new collaborations in \", \n",
    "          str(i),\" has also a new colalboration in \", str(i+2))"
   ]
  },
  {
   "cell_type": "code",
   "execution_count": null,
   "metadata": {},
   "outputs": [],
   "source": []
  }
 ],
 "metadata": {
  "kernelspec": {
   "display_name": "Python 3.9.7 ('intership')",
   "language": "python",
   "name": "python3"
  },
  "language_info": {
   "codemirror_mode": {
    "name": "ipython",
    "version": 3
   },
   "file_extension": ".py",
   "mimetype": "text/x-python",
   "name": "python",
   "nbconvert_exporter": "python",
   "pygments_lexer": "ipython3",
   "version": "3.9.7"
  },
  "orig_nbformat": 4,
  "vscode": {
   "interpreter": {
    "hash": "31e847d8d64451fb3956251c7a5a7697da34ba3e332d83b91f5713ea0d9c1528"
   }
  }
 },
 "nbformat": 4,
 "nbformat_minor": 2
}
